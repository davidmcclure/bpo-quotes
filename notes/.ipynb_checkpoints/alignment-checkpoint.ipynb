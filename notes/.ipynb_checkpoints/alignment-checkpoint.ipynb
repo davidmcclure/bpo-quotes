{
 "cells": [
  {
   "cell_type": "markdown",
   "metadata": {},
   "source": [
    "# Brute force"
   ]
  },
  {
   "cell_type": "code",
   "execution_count": 2,
   "metadata": {
    "collapsed": true
   },
   "outputs": [],
   "source": [
    "subject = 'actgatcgattgatcgatcgatcg'\n",
    "query = 'tttagatcgatctttgatc'"
   ]
  },
  {
   "cell_type": "code",
   "execution_count": 9,
   "metadata": {
    "collapsed": true
   },
   "outputs": [],
   "source": [
    "def score_match(s, q, s_start, q_start, size):\n",
    "    score = 0\n",
    "    for i in range(size):\n",
    "        s_base = s[s_start+i]\n",
    "        q_base = q[q_start+i]\n",
    "        if s_base == q_base:\n",
    "            score += 1\n",
    "        else:\n",
    "            score -= 1\n",
    "    return score"
   ]
  },
  {
   "cell_type": "code",
   "execution_count": 10,
   "metadata": {
    "collapsed": false
   },
   "outputs": [
    {
     "name": "stdout",
     "output_type": "stream",
     "text": [
      "6\n",
      "2\n",
      "4\n",
      "-1\n"
     ]
    }
   ],
   "source": [
    "print(score_match(subject, query, 7, 4, 8))\n",
    "print(score_match(subject, query, 7, 4, 4))\n",
    "print(score_match(subject, query, 7, 4, 12))\n",
    "print(score_match(subject, query, 10, 1, 5))"
   ]
  },
  {
   "cell_type": "code",
   "execution_count": 21,
   "metadata": {
    "collapsed": false,
    "scrolled": false
   },
   "outputs": [
    {
     "name": "stdout",
     "output_type": "stream",
     "text": [
      "gatcgat gatcgat 7\n",
      "attgatcgatc ttagatcgatc 7\n",
      "ttgatcgat tagatcgat 7\n",
      "ttgatcgatc tagatcgatc 8\n",
      "ttgatcgatcg tagatcgatct 7\n",
      "ttgatcgatcgat tagatcgatcttt 7\n",
      "tgatcgatc agatcgatc 7\n",
      "gatcgat gatcgat 7\n",
      "gatcgatc gatcgatc 8\n",
      "gatcgatcg gatcgatct 7\n",
      "gatcgatcgat gatcgatcttt 7\n",
      "atcgatcgatc ttagatcgatc 7\n",
      "atcgatc atcgatc 7\n",
      "tcgatcgat tagatcgat 7\n",
      "tcgatcgatc tagatcgatc 8\n",
      "cgatcgatc agatcgatc 7\n",
      "gatcgat gatcgat 7\n",
      "gatcgatc gatcgatc 8\n",
      "atcgatc atcgatc 7\n"
     ]
    }
   ],
   "source": [
    "for s_start in range(len(subject)):\n",
    "        for q_start in range(len(query)):\n",
    "            for size in range(1, len(query)):\n",
    "            \n",
    "                if s_start + size < len(subject) and q_start + size < len(query):\n",
    "                    score = score_match(subject, query, s_start, q_start, size)\n",
    "                    if score > 6:\n",
    "                        s_sub = subject[s_start:s_start+size]\n",
    "                        q_sub = query[q_start:q_start+size]\n",
    "                        print(s_sub, q_sub, score)"
   ]
  },
  {
   "cell_type": "markdown",
   "metadata": {},
   "source": [
    "# BLAST algorithm"
   ]
  },
  {
   "cell_type": "code",
   "execution_count": 31,
   "metadata": {
    "collapsed": true
   },
   "outputs": [],
   "source": [
    "from itertools import islice\n",
    "\n",
    "def window(seq, n):\n",
    "    seq = iter(seq)\n",
    "    result = tuple(islice(seq, n))\n",
    "    if len(result) == n:\n",
    "        yield result\n",
    "    for s in seq:\n",
    "        result = result[1:] + (s,)\n",
    "        yield result"
   ]
  },
  {
   "cell_type": "code",
   "execution_count": 33,
   "metadata": {
    "collapsed": false
   },
   "outputs": [
    {
     "data": {
      "text/plain": [
       "[(1, 2), (2, 3), (3, 4), (4, 5)]"
      ]
     },
     "execution_count": 33,
     "metadata": {},
     "output_type": "execute_result"
    }
   ],
   "source": [
    "list(window('david', 2))\n",
    "list(window([1,2,3,4,5], 2))"
   ]
  },
  {
   "cell_type": "code",
   "execution_count": 39,
   "metadata": {
    "collapsed": true
   },
   "outputs": [],
   "source": [
    "from collections import defaultdict\n",
    "\n",
    "def make_blast_index(seq, word_len=4):\n",
    "    index = defaultdict(list)\n",
    "    for i, seed in enumerate(window(seq, word_len)):\n",
    "        index[seed].append(i)\n",
    "    return index"
   ]
  },
  {
   "cell_type": "code",
   "execution_count": 40,
   "metadata": {
    "collapsed": false
   },
   "outputs": [
    {
     "data": {
      "text/plain": [
       "defaultdict(list,\n",
       "            {('a', 'c', 't', 'g'): [0],\n",
       "             ('a', 't', 'c', 'g'): [4, 12, 16, 20],\n",
       "             ('a', 't', 't', 'g'): [8],\n",
       "             ('c', 'g', 'a', 't'): [6, 14, 18],\n",
       "             ('c', 't', 'g', 'a'): [1],\n",
       "             ('g', 'a', 't', 'c'): [3, 11, 15, 19],\n",
       "             ('g', 'a', 't', 't'): [7],\n",
       "             ('t', 'c', 'g', 'a'): [5, 13, 17],\n",
       "             ('t', 'g', 'a', 't'): [2, 10],\n",
       "             ('t', 't', 'g', 'a'): [9]})"
      ]
     },
     "execution_count": 40,
     "metadata": {},
     "output_type": "execute_result"
    }
   ],
   "source": [
    "make_blast_index('actgatcgattgatcgatcgatcg')"
   ]
  }
 ],
 "metadata": {
  "kernelspec": {
   "display_name": "Python 3",
   "language": "python",
   "name": "python3"
  },
  "language_info": {
   "codemirror_mode": {
    "name": "ipython",
    "version": 3
   },
   "file_extension": ".py",
   "mimetype": "text/x-python",
   "name": "python",
   "nbconvert_exporter": "python",
   "pygments_lexer": "ipython3",
   "version": "3.5.2"
  }
 },
 "nbformat": 4,
 "nbformat_minor": 1
}
